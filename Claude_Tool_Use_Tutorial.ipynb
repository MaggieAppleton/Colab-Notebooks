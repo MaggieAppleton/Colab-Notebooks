{
  "nbformat": 4,
  "nbformat_minor": 0,
  "metadata": {
    "colab": {
      "provenance": [],
      "authorship_tag": "ABX9TyOxE2gZJ+Ou5w+ZMdSvV/Jw",
      "include_colab_link": true
    },
    "kernelspec": {
      "name": "python3",
      "display_name": "Python 3"
    },
    "language_info": {
      "name": "python"
    }
  },
  "cells": [
    {
      "cell_type": "markdown",
      "metadata": {
        "id": "view-in-github",
        "colab_type": "text"
      },
      "source": [
        "<a href=\"https://colab.research.google.com/github/MaggieAppleton/Colab-Notebooks/blob/main/Claude_Tool_Use_Tutorial.ipynb\" target=\"_parent\"><img src=\"https://colab.research.google.com/assets/colab-badge.svg\" alt=\"Open In Colab\"/></a>"
      ]
    },
    {
      "cell_type": "markdown",
      "source": [
        "# Claude Tool Use Tutorial"
      ],
      "metadata": {
        "id": "yqmBeZLEiOjH"
      }
    },
    {
      "cell_type": "code",
      "source": [
        "# Setup packages\n",
        "\n",
        "%pip install anthropic wikipedia\n",
        "\n",
        "import anthropic\n",
        "import wikipedia\n",
        "import json\n",
        "from google.colab import userdata\n",
        "from IPython.display import Markdown, display\n",
        "import re\n",
        "\n",
        "api_key = userdata.get('ANTHROPIC_API_KEY')\n",
        "claude_client = anthropic.Anthropic(api_key=api_key)\n",
        "model = \"claude-3-5-haiku-latest\"\n",
        "\n",
        "print(\"👍 Claude and wikipedia setup\")"
      ],
      "metadata": {
        "colab": {
          "base_uri": "https://localhost:8080/"
        },
        "id": "3ADd-6iCl7pQ",
        "outputId": "c7aae396-670c-4916-b2f4-ab4092d3c667",
        "collapsed": true
      },
      "execution_count": null,
      "outputs": [
        {
          "output_type": "stream",
          "name": "stdout",
          "text": [
            "Requirement already satisfied: anthropic in /usr/local/lib/python3.11/dist-packages (0.55.0)\n",
            "Requirement already satisfied: wikipedia in /usr/local/lib/python3.11/dist-packages (1.4.0)\n",
            "Requirement already satisfied: anyio<5,>=3.5.0 in /usr/local/lib/python3.11/dist-packages (from anthropic) (4.9.0)\n",
            "Requirement already satisfied: distro<2,>=1.7.0 in /usr/local/lib/python3.11/dist-packages (from anthropic) (1.9.0)\n",
            "Requirement already satisfied: httpx<1,>=0.25.0 in /usr/local/lib/python3.11/dist-packages (from anthropic) (0.28.1)\n",
            "Requirement already satisfied: jiter<1,>=0.4.0 in /usr/local/lib/python3.11/dist-packages (from anthropic) (0.10.0)\n",
            "Requirement already satisfied: pydantic<3,>=1.9.0 in /usr/local/lib/python3.11/dist-packages (from anthropic) (2.11.7)\n",
            "Requirement already satisfied: sniffio in /usr/local/lib/python3.11/dist-packages (from anthropic) (1.3.1)\n",
            "Requirement already satisfied: typing-extensions<5,>=4.10 in /usr/local/lib/python3.11/dist-packages (from anthropic) (4.14.0)\n",
            "Requirement already satisfied: beautifulsoup4 in /usr/local/lib/python3.11/dist-packages (from wikipedia) (4.13.4)\n",
            "Requirement already satisfied: requests<3.0.0,>=2.0.0 in /usr/local/lib/python3.11/dist-packages (from wikipedia) (2.32.3)\n",
            "Requirement already satisfied: idna>=2.8 in /usr/local/lib/python3.11/dist-packages (from anyio<5,>=3.5.0->anthropic) (3.10)\n",
            "Requirement already satisfied: certifi in /usr/local/lib/python3.11/dist-packages (from httpx<1,>=0.25.0->anthropic) (2025.6.15)\n",
            "Requirement already satisfied: httpcore==1.* in /usr/local/lib/python3.11/dist-packages (from httpx<1,>=0.25.0->anthropic) (1.0.9)\n",
            "Requirement already satisfied: h11>=0.16 in /usr/local/lib/python3.11/dist-packages (from httpcore==1.*->httpx<1,>=0.25.0->anthropic) (0.16.0)\n",
            "Requirement already satisfied: annotated-types>=0.6.0 in /usr/local/lib/python3.11/dist-packages (from pydantic<3,>=1.9.0->anthropic) (0.7.0)\n",
            "Requirement already satisfied: pydantic-core==2.33.2 in /usr/local/lib/python3.11/dist-packages (from pydantic<3,>=1.9.0->anthropic) (2.33.2)\n",
            "Requirement already satisfied: typing-inspection>=0.4.0 in /usr/local/lib/python3.11/dist-packages (from pydantic<3,>=1.9.0->anthropic) (0.4.1)\n",
            "Requirement already satisfied: charset-normalizer<4,>=2 in /usr/local/lib/python3.11/dist-packages (from requests<3.0.0,>=2.0.0->wikipedia) (3.4.2)\n",
            "Requirement already satisfied: urllib3<3,>=1.21.1 in /usr/local/lib/python3.11/dist-packages (from requests<3.0.0,>=2.0.0->wikipedia) (2.4.0)\n",
            "Requirement already satisfied: soupsieve>1.2 in /usr/local/lib/python3.11/dist-packages (from beautifulsoup4->wikipedia) (2.7)\n",
            "👍 Claude and wikipedia setup\n"
          ]
        }
      ]
    },
    {
      "cell_type": "markdown",
      "source": [
        "# Canonical Tool Use Pattern\n",
        "\n",
        "How to loop through text and tool responses from Claude"
      ],
      "metadata": {
        "id": "cKF7O_qRUvpl"
      }
    },
    {
      "cell_type": "code",
      "source": [
        "def math_solver(word_problem):\n",
        "\n",
        "    system_prompt = \"\"\"\n",
        "    You are a mathematics assistant. Help the user solve their math problem by breaking it down and reasoning through it step-by-step.\n",
        "\n",
        "    Guidelines:\n",
        "    - Show your work clearly at each step\n",
        "    - Use the available tools when you need to perform calculations\n",
        "    - Wrap your reasoning in <reasoning> tags\n",
        "    - When you have the final answer, wrap it in <final_answer> tags\n",
        "    - Be precise and show intermediate results\n",
        "    \"\"\"\n",
        "\n",
        "    messages = [{\"role\": \"user\", \"content\": word_problem}]\n",
        "\n",
        "    while True:\n",
        "        response = claude_client.messages.create(\n",
        "            model=model,\n",
        "            system=system_prompt,\n",
        "            max_tokens=max_tokens,\n",
        "            messages=messages,\n",
        "            tools=tools\n",
        "        )\n",
        "\n",
        "        # Add Claude's entire response to conversation history\n",
        "        messages.append({\"role\": \"assistant\", \"content\": response.content})\n",
        "\n",
        "        # Process each content block in the response\n",
        "        has_final_answer = False\n",
        "        has_tool_use = False\n",
        "\n",
        "        for content_block in response.content:\n",
        "            if content_block.type == \"text\":\n",
        "                # Handle text content\n",
        "                text_content = content_block.text\n",
        "                print(f\"Claude says: {text_content}\")\n",
        "\n",
        "                # Check for final answer\n",
        "                if \"<final_answer>\" in text_content:\n",
        "                    has_final_answer = True\n",
        "\n",
        "            elif content_block.type == \"tool_use\":\n",
        "                # Handle tool use\n",
        "                has_tool_use = True\n",
        "                tool_name = content_block.name\n",
        "                tool_input = content_block.input\n",
        "                tool_id = content_block.id\n",
        "\n",
        "                print(f\"Claude wants to use tool: {tool_name}\")\n",
        "\n",
        "                # Execute the tool\n",
        "                tool_result = execute_tool(tool_name, tool_input)\n",
        "\n",
        "                # Add tool result to conversation\n",
        "                messages.append({\n",
        "                    \"role\": \"user\",\n",
        "                    \"content\": [{\n",
        "                        \"type\": \"tool_result\",\n",
        "                        \"tool_use_id\": tool_id,\n",
        "                        \"content\": str(tool_result)\n",
        "                    }]\n",
        "                })\n",
        "\n",
        "        # Check if we have a final answer\n",
        "        if has_final_answer:\n",
        "            # Extract final answer from the response\n",
        "            for content_block in response.content:\n",
        "                if content_block.type == \"text\" and \"<final_answer>\" in content_block.text:\n",
        "                    answer = extract_answer(content_block.text)\n",
        "                    return answer\n",
        "\n",
        "        # If there were tool uses, continue the loop to get Claude's response to the tool results\n",
        "        if has_tool_use:\n",
        "            continue\n",
        "\n",
        "        # If no final answer and no tool use, ask Claude to continue\n",
        "        messages.append({\"role\": \"user\", \"content\": \"Continue to the next step\"})\n",
        "\n",
        "def execute_tool(tool_name, tool_input):\n",
        "    \"\"\"Execute a tool and return the result\"\"\"\n",
        "    if tool_name == \"calculator\":\n",
        "        # Example: simple calculator tool\n",
        "        expression = tool_input.get(\"expression\", \"\")\n",
        "        try:\n",
        "            result = eval(expression)  # Note: eval is dangerous, use a proper math parser\n",
        "            return f\"Result: {result}\"\n",
        "        except:\n",
        "            return \"Error: Invalid expression\"\n",
        "\n",
        "    # Add other tools as needed\n",
        "    return \"Tool not implemented\""
      ],
      "metadata": {
        "id": "6l-86wISUuBh"
      },
      "execution_count": null,
      "outputs": []
    },
    {
      "cell_type": "markdown",
      "source": [
        "\n",
        "\n",
        "---\n",
        "\n",
        "\n",
        "\n",
        "# [Lesson 1](https://github.com/anthropics/courses/blob/master/tool_use/02_your_first_simple_tool.ipynb)\n",
        "\n",
        "Build a basic tool"
      ],
      "metadata": {
        "id": "9UqqpoURSO3G"
      }
    },
    {
      "cell_type": "markdown",
      "source": [
        "All Claude tools need a name, a description, and a JSON input schema"
      ],
      "metadata": {
        "id": "rCONnlccS8Kh"
      }
    },
    {
      "cell_type": "code",
      "source": [
        "# Example tool definition for search\n",
        "\n",
        "search = {\n",
        "  \"name\": \"search_product\",\n",
        "  \"description\": \"Search for a product by name or keyword and return its current price and availability.\",\n",
        "  \"input_schema\": {\n",
        "    \"type\": \"object\",\n",
        "    \"properties\": {\n",
        "      \"query\": {\n",
        "        \"type\": \"string\",\n",
        "        \"description\": \"The product name or search keyword, e.g. 'iPhone 13 Pro' or 'wireless headphones'\"\n",
        "      },\n",
        "      \"category\": {\n",
        "        \"type\": \"string\",\n",
        "        \"enum\": [\"electronics\", \"clothing\", \"home\", \"toys\", \"sports\"],\n",
        "        \"description\": \"The product category to narrow down the search results\"\n",
        "      },\n",
        "      \"max_price\": {\n",
        "        \"type\": \"number\",\n",
        "        \"description\": \"The maximum price of the product, used to filter the search results\"\n",
        "      }\n",
        "    },\n",
        "    \"required\": [\"query\"]\n",
        "  }\n",
        "}"
      ],
      "metadata": {
        "id": "PuoeMoCzS_eL"
      },
      "execution_count": null,
      "outputs": []
    },
    {
      "cell_type": "code",
      "source": [
        "# Practice writing a tool definition\n",
        "\n",
        "def inventory_lookup(product_name, max_results):\n",
        "  return \"This function looks stuff up\"\n",
        "\n",
        "inventory_lookup = {\n",
        "    \"name\": \"inventory lookup\",\n",
        "    \"description\": \"Look up what products we have in our store inventory\",\n",
        "    \"input_schema\": {\n",
        "        \"type\": \"object\",\n",
        "        \"properties\": {\n",
        "            \"product_name\": {\n",
        "                \"type\": \"string\",\n",
        "                \"description\": \"The name of the product we want to look up\"\n",
        "            },\n",
        "            \"max_results\": {\n",
        "                \"type\": \"number\",\n",
        "                \"description\": \"The maximum number of results to return\"\n",
        "            }\n",
        "        },\n",
        "        \"required\": [\"product_name\", \"max_results\"]\n",
        "    }\n",
        "}"
      ],
      "metadata": {
        "id": "vuWx_wrFTdgF"
      },
      "execution_count": null,
      "outputs": []
    },
    {
      "cell_type": "markdown",
      "source": [
        "# Giving Claude a calculator"
      ],
      "metadata": {
        "id": "feXOgA65aV9b"
      }
    },
    {
      "cell_type": "code",
      "execution_count": null,
      "metadata": {
        "colab": {
          "base_uri": "https://localhost:8080/",
          "height": 52
        },
        "id": "6iaOeiW2R1CW",
        "outputId": "c568436e-add6-4250-a00d-c3aba8b92e5c"
      },
      "outputs": [
        {
          "output_type": "display_data",
          "data": {
            "text/plain": [
              "13"
            ]
          },
          "metadata": {}
        },
        {
          "output_type": "display_data",
          "data": {
            "text/plain": [
              "8.0"
            ]
          },
          "metadata": {}
        }
      ],
      "source": [
        "# Setup our calculator function\n",
        "\n",
        "def calculator(operation, num1, num2):\n",
        "    if operation == \"add\":\n",
        "        return num1 + num2\n",
        "    elif operation == \"subtract\":\n",
        "        return num1 - num2\n",
        "    elif operation == \"multiply\":\n",
        "        return num1 * num2\n",
        "    elif operation == \"divide\":\n",
        "        if num2 == 0:\n",
        "            raise ValueError(\"Cannot divide by zero.\")\n",
        "        return num1 / num2\n",
        "    else:\n",
        "        raise ValueError(f\"Unsupported operation: {operation}\")\n",
        "\n",
        "display(calculator(\"add\", 10, 3))\n",
        "\n",
        "display(calculator(\"divide\", 200, 25))\n"
      ]
    },
    {
      "cell_type": "code",
      "source": [
        "# Define our calculator tool\n",
        "\n",
        "calculator_tool = {\n",
        "    \"name\": \"calculator\",\n",
        "    \"description\": \"A simple calculator that performs basic arithmetic operations.\",\n",
        "    \"input_schema\": {\n",
        "        \"type\": \"object\",\n",
        "        \"properties\": {\n",
        "            \"operation\": {\n",
        "                \"type\": \"string\",\n",
        "                \"enum\": [\"add\", \"subtract\", \"multiply\", \"divide\"],\n",
        "                \"description\": \"The arithmetic operation to perform.\"\n",
        "            },\n",
        "            \"num1\": {\n",
        "                \"type\": \"number\",\n",
        "                \"description\": \"The first operand.\"\n",
        "            },\n",
        "            \"num2\": {\n",
        "                \"type\": \"number\",\n",
        "                \"description\": \"The second operand.\"\n",
        "            }\n",
        "        },\n",
        "        \"required\": [\"operation\", \"operand1\", \"operand2\"]\n",
        "    }\n",
        "}"
      ],
      "metadata": {
        "id": "wPK9JJPrTOXN"
      },
      "execution_count": null,
      "outputs": []
    },
    {
      "cell_type": "code",
      "source": [
        "# Ask Claude a calculation question\n",
        "\n",
        "response = claude_client.messages.create(\n",
        "    model=\"claude-3-haiku-20240307\",\n",
        "    messages=[{\"role\": \"user\", \"content\": \"Multiply 1984135 by 9343116. Only respond with the result\"}],\n",
        "    system=\"You have access to tools, but only use them when necessary.  If a tool is not required, respond as normal\",\n",
        "    max_tokens=300,\n",
        "    # Tell Claude about our tool\n",
        "    tools=[calculator_tool]\n",
        ")\n",
        "\n",
        "display(response)\n",
        "\n",
        "print(f\"\\nStop reason: {response.stop_reason}\")\n",
        "print(f\"Tool to call: {response.content[0].name}\")\n",
        "print(f\"Inputs: {response.content[0].input}\")"
      ],
      "metadata": {
        "colab": {
          "base_uri": "https://localhost:8080/",
          "height": 225
        },
        "id": "cJF1CMs1Uo0q",
        "outputId": "05bd52df-950a-4a60-e025-2fd07345161b"
      },
      "execution_count": null,
      "outputs": [
        {
          "output_type": "display_data",
          "data": {
            "text/plain": [
              "Message(id='msg_01VcT1AVWxUk4oFrFa6wtRZp', content=[ToolUseBlock(id='toolu_013q5sqPn5JEiKCVSAu5u7gU', input={'num1': 1984135, 'num2': 9343116, 'operation': 'multiply'}, name='calculator', type='tool_use')], model='claude-3-haiku-20240307', role='assistant', stop_reason='tool_use', stop_sequence=None, type='message', usage=Usage(cache_creation_input_tokens=0, cache_read_input_tokens=0, input_tokens=443, output_tokens=91, server_tool_use=None, service_tier='standard'))"
            ]
          },
          "metadata": {}
        },
        {
          "output_type": "stream",
          "name": "stdout",
          "text": [
            "\n",
            "Stop reason: tool_use\n",
            "Tool to call: calculator\n",
            "Inputs: {'num1': 1984135, 'num2': 9343116, 'operation': 'multiply'}\n"
          ]
        }
      ]
    },
    {
      "cell_type": "code",
      "source": [
        "# Use Claude's response to run the calculation\n",
        "\n",
        "operation = response.content[0].input[\"operation\"]\n",
        "num1 = response.content[0].input[\"num1\"]\n",
        "num2 = response.content[0].input[\"num2\"]\n",
        "\n",
        "result = calculator(operation, num1, num2)\n",
        "\n",
        "print(result)"
      ],
      "metadata": {
        "colab": {
          "base_uri": "https://localhost:8080/"
        },
        "id": "wY2adZEKZLza",
        "outputId": "4f7f4728-2271-4528-f523-7934e8256b69"
      },
      "execution_count": null,
      "outputs": [
        {
          "output_type": "stream",
          "name": "stdout",
          "text": [
            "18538003464660\n"
          ]
        }
      ]
    },
    {
      "cell_type": "code",
      "source": [
        "# Create a general Claude call that can use calculator if needed\n",
        "\n",
        "def prompt_claude(prompt):\n",
        "  messages = [{\"role\": \"user\", \"content\": prompt}]\n",
        "  response = claude_client.messages.create(\n",
        "      model=\"claude-3-haiku-20240307\",\n",
        "      # Tell Claude to only use tools when necessary.\n",
        "      system=\"You have access to tools, but only use them when necessary. If a tool is not required, respond as normal\",\n",
        "      messages=messages,\n",
        "      max_tokens=200,\n",
        "      tools=[calculator_tool],\n",
        "  )\n",
        "\n",
        "  display(response)\n",
        "\n",
        "  # If the reason Claude stopped was to use a tool, get the tool name and input\n",
        "  if response.stop_reason == \"tool_use\":\n",
        "    # Access the last item in the list – in this case, the ToolUseBlock. TextBlock is the first item.\n",
        "    tool_block = response.content[-1]\n",
        "    tool_name = tool_block.name\n",
        "    tool_input = tool_block.input\n",
        "\n",
        "    # If the tool is the calculator, try using the calculator (and catch the error)\n",
        "    if tool_name == \"calculator\":\n",
        "      try:\n",
        "        result = calculator(tool_input[\"operation\"], tool_input[\"num1\"], tool_input[\"num2\"])\n",
        "        print(\"\\nClaude says:\", response.content[0].text)\n",
        "        print(\"\\nCalculator result is:\", result)\n",
        "      except ValueError as e:\n",
        "        print(f\"Error: {str(e)}\")\n",
        "\n",
        "  elif response.stop_reason == \"end_turn\":\n",
        "    print(\"\\nClaude chose not to use a tool.\\nResponse:\", response.content[0].text)"
      ],
      "metadata": {
        "id": "8U1iDh6aa8M8"
      },
      "execution_count": null,
      "outputs": []
    },
    {
      "cell_type": "code",
      "source": [
        "prompt_claude(\"I have 43 bananas to share between 4 toddlers. How many bananas does each toddler get?\")"
      ],
      "metadata": {
        "colab": {
          "base_uri": "https://localhost:8080/",
          "height": 260
        },
        "id": "mFWGHVDDuUoR",
        "outputId": "c45f92c8-5163-4bfa-9f8a-afe058f70e6b"
      },
      "execution_count": null,
      "outputs": [
        {
          "output_type": "display_data",
          "data": {
            "text/plain": [
              "Message(id='msg_011oP8AiZjoxMMwcLHXNB2nT', content=[TextBlock(citations=None, text=\"Okay, let's calculate how many bananas each toddler gets.\", type='text'), ToolUseBlock(id='toolu_01EHg3WZupuuVg49UK3ukBqZ', input={'num1': 43, 'num2': 4, 'operation': 'divide'}, name='calculator', type='tool_use')], model='claude-3-haiku-20240307', role='assistant', stop_reason='tool_use', stop_sequence=None, type='message', usage=Usage(cache_creation_input_tokens=0, cache_read_input_tokens=0, input_tokens=452, output_tokens=104, server_tool_use=None, service_tier='standard'))"
            ]
          },
          "metadata": {}
        },
        {
          "output_type": "stream",
          "name": "stdout",
          "text": [
            "\n",
            "Claude says: Okay, let's calculate how many bananas each toddler gets.\n",
            "\n",
            "Calculator result is: 10.75\n"
          ]
        }
      ]
    },
    {
      "cell_type": "code",
      "source": [
        "prompt_claude(\"Where is Paris?\")"
      ],
      "metadata": {
        "colab": {
          "base_uri": "https://localhost:8080/",
          "height": 697
        },
        "id": "UgvNSpjj7XoR",
        "outputId": "d7f76408-289c-48dc-9926-a69fca2b5d83"
      },
      "execution_count": null,
      "outputs": [
        {
          "output_type": "display_data",
          "data": {
            "text/plain": [
              "Message(id='msg_01Fvk5tQbS3HSRZhqABqA8CX', content=[TextBlock(citations=None, text=\"Paris is the capital and largest city of France. It is located in northern central France, along the Seine River, in the Île-de-France region.\\n\\nSome key facts about the location of Paris:\\n\\n- It is situated on the northern central part of the French national territory, roughly 150 kilometers (93 miles) from the English Channel coast.\\n\\n- Paris is located in the north-central part of the country, about 280 kilometers (175 miles) southeast of the English Channel, 450 kilometers (280 miles) south of the North Sea, and 600 kilometers (375 miles) east of the Atlantic Ocean.\\n\\n- The city is centered on two small islands (Île de la Cité and Île Saint-Louis) in the middle of the Seine river, which divides the city into the Left Bank (on the south) and the Right Bank (on the north).\\n\\n- The historic center of Paris is on the Île de la Cité. Many of the city's landmarks and monuments, including Notre-Dame Cathedral, are located on or near this island.\\n\\nSo in summary, Paris is situated in northern central France, along the Seine River, and is the capital and largest city of the country. Its central geographic location has made it an important cultural and economic hub for centuries.\", type='text')], model='claude-3-haiku-20240307', role='assistant', stop_reason='end_turn', stop_sequence=None, type='message', usage=Usage(cache_creation_input_tokens=0, cache_read_input_tokens=0, input_tokens=428, output_tokens=282, server_tool_use=None, service_tier='standard'))"
            ]
          },
          "metadata": {}
        },
        {
          "output_type": "stream",
          "name": "stdout",
          "text": [
            "\n",
            "Claude chose not to use a tool.\n",
            "Response: Paris is the capital and largest city of France. It is located in northern central France, along the Seine River, in the Île-de-France region.\n",
            "\n",
            "Some key facts about the location of Paris:\n",
            "\n",
            "- It is situated on the northern central part of the French national territory, roughly 150 kilometers (93 miles) from the English Channel coast.\n",
            "\n",
            "- Paris is located in the north-central part of the country, about 280 kilometers (175 miles) southeast of the English Channel, 450 kilometers (280 miles) south of the North Sea, and 600 kilometers (375 miles) east of the Atlantic Ocean.\n",
            "\n",
            "- The city is centered on two small islands (Île de la Cité and Île Saint-Louis) in the middle of the Seine river, which divides the city into the Left Bank (on the south) and the Right Bank (on the north).\n",
            "\n",
            "- The historic center of Paris is on the Île de la Cité. Many of the city's landmarks and monuments, including Notre-Dame Cathedral, are located on or near this island.\n",
            "\n",
            "So in summary, Paris is situated in northern central France, along the Seine River, and is the capital and largest city of the country. Its central geographic location has made it an important cultural and economic hub for centuries.\n"
          ]
        }
      ]
    },
    {
      "cell_type": "markdown",
      "source": [
        "# Exercise: Make a Research Assistant"
      ],
      "metadata": {
        "id": "dFuo8DMg7w9c"
      }
    },
    {
      "cell_type": "code",
      "source": [
        "# Setup wikipedia tools\n",
        "\n",
        "import wikipedia\n",
        "\n",
        "def wikipedia_lookup(topic, article_titles):\n",
        "  \"\"\"Lookup real articles on Wikipedia\"\"\"\n",
        "  wikipedia_articles = []\n",
        "  for titles in article_titles:\n",
        "    results = wikipedia.search(titles)\n",
        "    try:\n",
        "      page = wikipedia.page(results[0])\n",
        "      title = page.title\n",
        "      url = page.url\n",
        "      wikipedia_articles.append({\"title\": title, \"url\": url})\n",
        "    except:\n",
        "      continue\n",
        "\n",
        "  add_to_reading_list(wikipedia_articles, topic)\n",
        "  print(wikipedia_articles)\n",
        "\n",
        "def add_to_reading_list(articles, topic):\n",
        "  \"\"\"Add real wikipedia articles to markdown file\"\"\"\n",
        "  with open(\"/content/research_reading.md\", \"a\", encoding=\"utf-8\") as file:\n",
        "    file.write(f\"## {topic} \\n\")\n",
        "    for article in articles:\n",
        "      title = article[\"title\"]\n",
        "      url = article[\"url\"]\n",
        "      file.write(f\"* [{title}]({url}) \\n\")\n",
        "    file.write(f\"\\n\\n\")"
      ],
      "metadata": {
        "id": "Ai8n6AO77z7Y"
      },
      "execution_count": null,
      "outputs": []
    },
    {
      "cell_type": "code",
      "source": [
        "# Define wikipedia lookup tool\n",
        "\n",
        "wikipedia_lookup_tool = {\n",
        "    \"name\": \"wikipedia_lookup\",\n",
        "    \"description\": \"Lookup the titles and URLs of real Wikipedia articles\",\n",
        "    \"input_schema\": {\n",
        "        \"type\": \"object\",\n",
        "        \"properties\": {\n",
        "            \"topic\": {\n",
        "                \"type\": \"string\",\n",
        "                \"description\": \"The research topic we need to find relevant wikipedia articles for\"\n",
        "            },\n",
        "            \"article_titles\": {\n",
        "                \"type\": \"array\",\n",
        "                \"description\": \"A list of article titles that we need to find real matching wikipedia articles for\"\n",
        "            }\n",
        "        },\n",
        "        \"required\": [\"topic\", \"article_titles\"]\n",
        "    }\n",
        "}"
      ],
      "metadata": {
        "id": "Pc6Zgp2EO5gp"
      },
      "execution_count": null,
      "outputs": []
    },
    {
      "cell_type": "code",
      "source": [
        "# Get Claude to generate article titles\n",
        "\n",
        "def get_research_help(research_topic, num_articles=10):\n",
        "  \"\"\"Get Claude to generate wikipedia article titles, then check them against wikipedia\"\"\"\n",
        "\n",
        "  messages = [{\"role\": \"user\", \"content\": f\"My research topic is: {research_topic}\"}]\n",
        "\n",
        "  response = claude_client.messages.create(\n",
        "      messages=messages,\n",
        "      model=\"claude-sonnet-4-20250514\",\n",
        "      max_tokens=300,\n",
        "      system=f\"You are a helpful research assistant who specialises in suggesting relevant wikipedia articles. Return a list of {num_articles} wikipedia article titles related to the user's research topic in this format: ['Greek Orthodox Church', 'Greek Christianity', 'Church of Cyprus']. Once you have made a list of suggested articles, use your 'wikipedia_lookup' tool to get the real titles and URLs of these articles.\",\n",
        "      tools=[wikipedia_lookup_tool]\n",
        "  )\n",
        "\n",
        "  # display(response)\n",
        "\n",
        "  # print(f\"\\nStop reason: {response.stop_reason}\")\n",
        "  # print(f\"\\nClaude says: {response.content[0].text}\")\n",
        "  # print(f\"Tool to call: {response.content[-1].name}\")\n",
        "  # print(f\"Inputs: {response.content[-1].input}\")\n",
        "\n",
        "  stop_reason = response.stop_reason\n",
        "\n",
        "  if stop_reason == \"tool_use\":\n",
        "    tool_block = response.content[-1]\n",
        "    tool_name = tool_block.name\n",
        "\n",
        "    if tool_name == \"wikipedia_lookup\":\n",
        "      try:\n",
        "        titles = tool_block.input[\"article_titles\"]\n",
        "        topic = tool_block.input[\"topic\"]\n",
        "\n",
        "        print(f\"Claude says: {response.content[0].text}\")\n",
        "\n",
        "        results = wikipedia_lookup(topic, titles)\n",
        "      except Exception as e:\n",
        "        print(f\"Error: {e}\")\n",
        "  elif stop_reason == \"end_turn\":\n",
        "    print(f\"Claude says: {response.content[0].text}\")"
      ],
      "metadata": {
        "id": "zoGagQ0SGSkL"
      },
      "execution_count": null,
      "outputs": []
    },
    {
      "cell_type": "code",
      "source": [
        "get_research_help(\"Sourdough bread\", 5)"
      ],
      "metadata": {
        "colab": {
          "base_uri": "https://localhost:8080/",
          "height": 159
        },
        "id": "mO53vZVvsLYj",
        "outputId": "a4da25c3-06b3-48b8-997e-b229afcba137"
      },
      "execution_count": null,
      "outputs": [
        {
          "output_type": "display_data",
          "data": {
            "text/plain": [
              "Message(id='msg_01HGcYx2TwRE8ESft8p3oDfp', content=[TextBlock(citations=None, text='Okay, let me suggest some relevant Wikipedia articles for your research topic of sourdough bread:', type='text'), ToolUseBlock(id='toolu_01JKrDdMbWTWdac5jo5ggs4k', input={'topic': 'Sourdough bread', 'article_titles': ['Sourdough', 'Bread', 'Fermentation (food)', 'Baking', 'Yeast']}, name='wikipedia_lookup', type='tool_use')], model='claude-3-haiku-20240307', role='assistant', stop_reason='tool_use', stop_sequence=None, type='message', usage=Usage(cache_creation_input_tokens=0, cache_read_input_tokens=0, input_tokens=476, output_tokens=123, server_tool_use=None, service_tier='standard'))"
            ]
          },
          "metadata": {}
        },
        {
          "output_type": "stream",
          "name": "stdout",
          "text": [
            "Claude says: Okay, let me suggest some relevant Wikipedia articles for your research topic of sourdough bread:\n",
            "[{'title': 'Sourdough', 'url': 'https://en.wikipedia.org/wiki/Sourdough'}, {'title': 'Breast', 'url': 'https://en.wikipedia.org/wiki/Breast'}, {'title': 'Fermentation in food processing', 'url': 'https://en.wikipedia.org/wiki/Fermentation_in_food_processing'}, {'title': 'Bank', 'url': 'https://en.wikipedia.org/wiki/Bank'}, {'title': 'East', 'url': 'https://en.wikipedia.org/wiki/East'}]\n"
          ]
        }
      ]
    },
    {
      "cell_type": "markdown",
      "source": [
        "# [Lesson 2](https://github.com/anthropics/courses/blob/master/tool_use/03_structured_outputs.ipynb)\n",
        "\n",
        "All of Claude's tool responses are JSON by default. We can use this when we want an answer structured in JSON.\n",
        "\n",
        "We can get Claude to return \"inputs\" for a tool but then not use them in the tool.\n",
        "\n",
        "We can force Claude to use a specific tool to get the output in JSON using `tool_choice`"
      ],
      "metadata": {
        "id": "Y1AyixZ2iB7a"
      }
    },
    {
      "cell_type": "code",
      "source": [
        "import json\n",
        "\n",
        "tools = [\n",
        "    {\n",
        "        \"name\": \"print_sentiment\",\n",
        "        \"description\": \"Prints the sentiment scores of a given text.\",\n",
        "        \"input_schema\": {\n",
        "            \"type\": \"object\",\n",
        "            \"properties\": {\n",
        "                \"positive_score\": {\"type\": \"number\", \"description\": \"The positive sentiment score, ranging from 0.0 to 1.0.\"},\n",
        "                \"negative_score\": {\"type\": \"number\", \"description\": \"The negative sentiment score, ranging from 0.0 to 1.0.\"},\n",
        "                \"neutral_score\": {\"type\": \"number\", \"description\": \"The neutral sentiment score, ranging from 0.0 to 1.0.\"}\n",
        "            },\n",
        "            \"required\": [\"positive_score\", \"negative_score\", \"neutral_score\"]\n",
        "        }\n",
        "    }\n",
        "]\n",
        "\n",
        "def analyse_sentiment(content):\n",
        "\n",
        "  messages=f\"\"\"\n",
        "  <text>{content}</text>\n",
        "\n",
        "  Analyse the sentiment of this text and return the scores using the print_sentiment tool.\n",
        "  \"\"\"\n",
        "\n",
        "  response = claude_client.messages.create(\n",
        "      model=\"claude-3-haiku-20240307\",\n",
        "      max_tokens=200,\n",
        "      tools=tools,\n",
        "      tool_choice={\"type\": \"tool\", \"name\": \"print_sentiment\"}, # Make Claude use this tool\n",
        "      messages=[{\"role\": \"user\", \"content\": messages}]\n",
        "  )\n",
        "\n",
        "  json_sentiment = None\n",
        "  for content in response.content:\n",
        "    if content.type == \"tool_use\" and content.name == \"print_sentiment\":\n",
        "      json_sentiment = content.input\n",
        "      break\n",
        "\n",
        "  if json_sentiment:\n",
        "    print(\"Sentiment analysis:\")\n",
        "    print(json.dumps(json_sentiment, indent=2))\n",
        "  else:\n",
        "    print(\"No sentiment analysis found in response\")"
      ],
      "metadata": {
        "id": "_C_dBYCwiJyv"
      },
      "execution_count": null,
      "outputs": []
    },
    {
      "cell_type": "code",
      "source": [
        "analyse_sentiment(\"Strawberries are crap\")"
      ],
      "metadata": {
        "colab": {
          "base_uri": "https://localhost:8080/"
        },
        "id": "HUw2omZcbGI_",
        "outputId": "826f672d-408f-4848-be15-d799c81285d1"
      },
      "execution_count": null,
      "outputs": [
        {
          "output_type": "stream",
          "name": "stdout",
          "text": [
            "Sentiment analysis:\n",
            "{\n",
            "  \"positive_score\": 0.0,\n",
            "  \"negative_score\": 0.5,\n",
            "  \"neutral_score\": 0.5\n",
            "}\n"
          ]
        }
      ]
    },
    {
      "cell_type": "markdown",
      "source": [
        "We can use this technique to extract structured information from freeform text."
      ],
      "metadata": {
        "id": "j7Irx0OnxhR_"
      }
    },
    {
      "cell_type": "code",
      "source": [
        "tools = [\n",
        "    {\n",
        "        \"name\": \"print_entities\",\n",
        "        \"description\": \"Prints extract named entities.\",\n",
        "        \"input_schema\": {\n",
        "            \"type\": \"object\",\n",
        "            \"properties\": {\n",
        "                \"entities\": {\n",
        "                    \"type\": \"array\",\n",
        "                    \"items\": {\n",
        "                        \"type\": \"object\",\n",
        "                        \"properties\": {\n",
        "                            \"name\": {\"type\": \"string\", \"description\": \"The extracted entity name.\"},\n",
        "                            \"type\": {\"type\": \"string\", \"description\": \"The entity type (e.g., PERSON, ORGANIZATION, LOCATION).\"},\n",
        "                            \"context\": {\"type\": \"string\", \"description\": \"The context in which the entity appears in the text.\"}\n",
        "                        },\n",
        "                        \"required\": [\"name\", \"type\", \"context\"]\n",
        "                    }\n",
        "                }\n",
        "            },\n",
        "            \"required\": [\"entities\"]\n",
        "        }\n",
        "    }\n",
        "]\n",
        "\n",
        "text = \"Maggie is applying to Anthropic. Julian and Joel are Maggie's contacts there. She lives in London with Dave. Dave works at nPlan.\"\n",
        "\n",
        "query = f\"\"\"\n",
        "<document>\n",
        "{text}\n",
        "</document>\n",
        "\n",
        "Use the print_entities tool.\n",
        "\"\"\"\n",
        "\n",
        "response = claude_client.messages.create(\n",
        "    model=\"claude-sonnet-4-20250514\",\n",
        "    max_tokens=1000,\n",
        "    tools=tools,\n",
        "    tool_choice={\"type\": \"tool\", \"name\": \"print_entities\"},\n",
        "    messages=[{\"role\": \"user\", \"content\": query}]\n",
        ")\n",
        "\n",
        "json_entities = None\n",
        "for content in response.content:\n",
        "    if content.type == \"tool_use\" and content.name == \"print_entities\":\n",
        "        json_entities = content.input\n",
        "        break\n",
        "\n",
        "if json_entities:\n",
        "    print(\"Extracted Entities (JSON):\")\n",
        "    print(json.dumps(json_entities, indent=2))\n",
        "else:\n",
        "    print(\"No entities found in the response.\")"
      ],
      "metadata": {
        "colab": {
          "base_uri": "https://localhost:8080/"
        },
        "id": "7LcxUwOrxmVO",
        "outputId": "ca289430-b81b-418b-e577-9821be99bf50"
      },
      "execution_count": null,
      "outputs": [
        {
          "output_type": "stream",
          "name": "stdout",
          "text": [
            "Extracted Entities (JSON):\n",
            "{\n",
            "  \"entities\": [\n",
            "    {\n",
            "      \"name\": \"Maggie\",\n",
            "      \"type\": \"PERSON\",\n",
            "      \"context\": \"Maggie is applying to Anthropic\"\n",
            "    },\n",
            "    {\n",
            "      \"name\": \"Anthropic\",\n",
            "      \"type\": \"ORGANIZATION\",\n",
            "      \"context\": \"Maggie is applying to Anthropic\"\n",
            "    },\n",
            "    {\n",
            "      \"name\": \"Julian\",\n",
            "      \"type\": \"PERSON\",\n",
            "      \"context\": \"Julian and Joel are Maggie's contacts there\"\n",
            "    },\n",
            "    {\n",
            "      \"name\": \"Joel\",\n",
            "      \"type\": \"PERSON\",\n",
            "      \"context\": \"Julian and Joel are Maggie's contacts there\"\n",
            "    },\n",
            "    {\n",
            "      \"name\": \"London\",\n",
            "      \"type\": \"LOCATION\",\n",
            "      \"context\": \"She lives in London with Dave\"\n",
            "    },\n",
            "    {\n",
            "      \"name\": \"Dave\",\n",
            "      \"type\": \"PERSON\",\n",
            "      \"context\": \"She lives in London with Dave. Dave works at nPlan\"\n",
            "    },\n",
            "    {\n",
            "      \"name\": \"nPlan\",\n",
            "      \"type\": \"ORGANIZATION\",\n",
            "      \"context\": \"Dave works at nPlan\"\n",
            "    }\n",
            "  ]\n",
            "}\n"
          ]
        }
      ]
    },
    {
      "cell_type": "markdown",
      "source": [
        "# Translation Exercise\n",
        "\n",
        "Making a translator tool that returns structured JSON"
      ],
      "metadata": {
        "id": "UH9u-0BF1T9-"
      }
    },
    {
      "cell_type": "code",
      "source": [
        "tools=[\n",
        "    {\n",
        "        \"name\": \"print_translation\", # Note that we make Claude think we're printing the translation, not having the tool do the translation\n",
        "        \"description\": \"Print the translation of a word or phrase from English into Spanish, French, Japanese, and Arabic\",\n",
        "        \"input_schema\": {\n",
        "            \"type\": \"object\",\n",
        "            \"properties\": {\n",
        "                \"english\": {\n",
        "                    \"type\": \"string\",\n",
        "                    \"description\": \"The original phrase in english\"\n",
        "                },\n",
        "                \"spanish\": {\n",
        "                    \"type\": \"string\",\n",
        "                    \"description\": \"The phrase translated into spanish\"\n",
        "                },\n",
        "                \"french\": {\n",
        "                    \"type\": \"string\",\n",
        "                    \"description\": \"The phrase translated into french\"\n",
        "                },\n",
        "                \"japanese\": {\n",
        "                    \"type\": \"string\",\n",
        "                    \"description\": \"The phrase translated into japanese\"\n",
        "                },\n",
        "                \"arabic\": {\n",
        "                    \"type\": \"string\",\n",
        "                    \"description\": \"The phrase translated into arabic\"\n",
        "                },\n",
        "            },\n",
        "            \"required\": [\"english\", \"spanish\", \"french\", \"japanese\", \"arabic\"]\n",
        "        }\n",
        "    }\n",
        "]\n",
        "\n",
        "def translate(phrase):\n",
        "\n",
        "  # Setup query\n",
        "  query = f\"\"\"\n",
        "  <text>\n",
        "  {phrase}\n",
        "  </text>\n",
        "\n",
        "  Use the print_translation tool\n",
        "  \"\"\"\n",
        "\n",
        "  # Pass to Claude\n",
        "  response = claude_client.messages.create(\n",
        "      model=\"claude-sonnet-4-20250514\",\n",
        "      max_tokens=500,\n",
        "      tools=tools,\n",
        "      messages=[{\"role\": \"user\", \"content\": query}]\n",
        "  )\n",
        "\n",
        "  # Process the results\n",
        "  translation_json = None\n",
        "  for content in response.content:\n",
        "    if content.type == \"tool_use\" and content.name == \"print_translation\":\n",
        "      translation_json = content.input\n",
        "      break\n",
        "\n",
        "  if translation_json:\n",
        "    print(\"Translation:\")\n",
        "    print(json.dumps(translation_json, ensure_ascii=False, indent=2))\n",
        "  else:\n",
        "    print(\"No translation available\")"
      ],
      "metadata": {
        "id": "1d1g-tqq1Lpm"
      },
      "execution_count": null,
      "outputs": []
    },
    {
      "cell_type": "code",
      "source": [
        "translate(\"Where is my bunny?\")"
      ],
      "metadata": {
        "colab": {
          "base_uri": "https://localhost:8080/"
        },
        "id": "w8qBFq2F3xHe",
        "outputId": "d4bc6098-6425-4fe5-917d-505e908ebcbe"
      },
      "execution_count": null,
      "outputs": [
        {
          "output_type": "stream",
          "name": "stdout",
          "text": [
            "Translation:\n",
            "{\n",
            "  \"english\": \"Where is my bunny?\",\n",
            "  \"spanish\": \"¿Dónde está mi conejito?\",\n",
            "  \"french\": \"Où est mon lapin?\",\n",
            "  \"japanese\": \"私のうさぎはどこですか？\",\n",
            "  \"arabic\": \"أين أرنبي؟\"\n",
            "}\n"
          ]
        }
      ]
    },
    {
      "cell_type": "markdown",
      "source": [
        "# [Lesson 3](https://github.com/anthropics/courses/blob/master/tool_use/04_complete_workflow.ipynb)\n",
        "\n",
        "Putting together a complete tool use workflow"
      ],
      "metadata": {
        "id": "0q5yKpDF4cYq"
      }
    },
    {
      "cell_type": "code",
      "source": [
        "# Setup article search tool\n",
        "article_search_tool = {\n",
        "    \"name\": \"get_article\",\n",
        "    \"description\": \"Retrieve an up to date Wikipedia article\",\n",
        "    \"input_schema\": {\n",
        "        \"type\": \"object\",\n",
        "        \"properties\": {\n",
        "            \"search_term\": {\n",
        "                \"type\": \"string\",\n",
        "                \"description\": \"A search term to find a wikipedia article by title\"\n",
        "            }\n",
        "        },\n",
        "        \"required\": [\"search_term\"]\n",
        "    }\n",
        "}\n",
        "\n",
        "# Get articles from wikipedia\n",
        "def get_article(search_term):\n",
        "  results = wikipedia.search(search_term)\n",
        "  first_result = results[0]\n",
        "  page = wikipedia.page(first_result, auto_suggest=False)\n",
        "  return page.content\n",
        "\n",
        "article = get_article(\"Superman\")\n",
        "display(article[:500])"
      ],
      "metadata": {
        "id": "uAhkSTHd4ifu",
        "colab": {
          "base_uri": "https://localhost:8080/",
          "height": 122
        },
        "outputId": "6f712d06-2d92-4750-d744-49ba48be1f4e"
      },
      "execution_count": null,
      "outputs": [
        {
          "output_type": "display_data",
          "data": {
            "text/plain": [
              "'Superman is a superhero created by writer Jerry Siegel and artist Joe Shuster, which first appeared in the comic book Action Comics #1, published in the United States on April 18, 1938. Superman has been regularly published in American comic books since 1938, and has been adapted to other media including radio serials, novels, films, television shows, theater, and video games.\\nSuperman was born Kal-El, on the fictional planet Krypton. As a baby, his parents Jor-El and Lara sent him to Earth in a'"
            ],
            "application/vnd.google.colaboratory.intrinsic+json": {
              "type": "string"
            }
          },
          "metadata": {}
        }
      ]
    },
    {
      "cell_type": "code",
      "source": [
        "# Complete Claude function to answer the question\n",
        "\n",
        "def answer_question(question):\n",
        "\n",
        "  system_prompt = \"\"\"\n",
        "    You will be asked a question by the user.\n",
        "    Answer the question in under 100 words.\n",
        "    If answering the question requires data you were not trained on, you can use the get_article tool to get the contents of a recent wikipedia article about the topic.\n",
        "    If you can answer the question without needing to get more information, please do so.\n",
        "    Only call the tool when needed.\n",
        "  \"\"\"\n",
        "\n",
        "  messages = [{\"role\": \"user\", \"content\": f\"<question>{question}</question>\"}]\n",
        "\n",
        "  response = claude_client.messages.create(\n",
        "      model=\"claude-3-5-haiku-latest\",\n",
        "      system=system_prompt,\n",
        "      messages=messages,\n",
        "      max_tokens=500,\n",
        "      tools=[article_search_tool]\n",
        "  )\n",
        "\n",
        "  if(response.stop_reason == \"tool_use\"):\n",
        "\n",
        "      tool_block = next((block for block in response.content if block.type == \"tool_use\"), None)\n",
        "\n",
        "      tool_name = tool_block.name\n",
        "      tool_input = tool_block.input\n",
        "\n",
        "      messages.append({\"role\": \"assistant\", \"content\": response.content})\n",
        "\n",
        "      if tool_name == \"get_article\":\n",
        "          search_term = tool_input[\"search_term\"]\n",
        "          print(f\"Claude wants to get an article for {search_term}\")\n",
        "          wiki_result = get_article(search_term)\n",
        "\n",
        "          tool_response = {\n",
        "            \"role\": \"user\",\n",
        "            \"content\": [\n",
        "                {\n",
        "                    \"type\": \"tool_result\",\n",
        "                    \"tool_use_id\": tool_block.id,\n",
        "                    \"content\": wiki_result\n",
        "                }\n",
        "            ]\n",
        "          }\n",
        "\n",
        "          messages.append(tool_response)\n",
        "\n",
        "          response = claude_client.messages.create(\n",
        "              model=\"claude-3-5-haiku-latest\",\n",
        "              system=system_prompt,\n",
        "              messages=messages,\n",
        "              max_tokens=500,\n",
        "              tools=[article_search_tool]\n",
        "          )\n",
        "\n",
        "          display(Markdown(f\"**Claude's final answer**:\\n\\n {response.content[0].text}\"))\n",
        "\n",
        "  else:\n",
        "      print(\"Claude did not call our tool\")\n",
        "      display(Markdown(response.content[0].text))"
      ],
      "metadata": {
        "id": "oZ6moHiinNpL"
      },
      "execution_count": null,
      "outputs": []
    },
    {
      "cell_type": "code",
      "source": [
        "answer_question(\"Who created the Power Puff Girls?\")"
      ],
      "metadata": {
        "colab": {
          "base_uri": "https://localhost:8080/",
          "height": 122
        },
        "id": "NdvPxm5OFtBx",
        "outputId": "71352978-c1e6-4b85-9483-f607dca40223"
      },
      "execution_count": null,
      "outputs": [
        {
          "output_type": "stream",
          "name": "stdout",
          "text": [
            "Claude wants to get an article for Power Puff Girls creator\n"
          ]
        },
        {
          "output_type": "display_data",
          "data": {
            "text/plain": [
              "<IPython.core.display.Markdown object>"
            ],
            "text/markdown": "**Claude's final answer**:\n\n Based on the Wikipedia article, Craig McCracken created the Power Puff Girls. He originally developed the characters while studying at CalArts, initially creating a short film called \"Whoopass Stew!\" in 1992. The show was later picked up by Cartoon Network, renamed to The Powerpuff Girls, and premiered on November 18, 1998."
          },
          "metadata": {}
        }
      ]
    },
    {
      "cell_type": "code",
      "source": [
        "answer_question(\"How did Britain come to be so wealthy by the end of the 1900s?\")"
      ],
      "metadata": {
        "colab": {
          "base_uri": "https://localhost:8080/",
          "height": 139
        },
        "id": "p-WXTIefGEmj",
        "outputId": "7ef96267-943d-475f-96ec-d4592d7586a0"
      },
      "execution_count": null,
      "outputs": [
        {
          "output_type": "stream",
          "name": "stdout",
          "text": [
            "Claude wants to get an article for British Empire industrial revolution economic power\n"
          ]
        },
        {
          "output_type": "display_data",
          "data": {
            "text/plain": [
              "<IPython.core.display.Markdown object>"
            ],
            "text/markdown": "**Claude's final answer**:\n\n Britain became wealthy through several key factors: the Industrial Revolution, colonial expansion, technological innovations, and global trade dominance. By leveraging advanced manufacturing, establishing a vast empire, and becoming the world's leading financial center, Britain emerged as the wealthiest nation by the late 1800s. Its naval supremacy and industrial capabilities allowed unprecedented economic growth and global economic control."
          },
          "metadata": {}
        }
      ]
    },
    {
      "cell_type": "code",
      "source": [
        "answer_question(\"Who wrote the book 'Life of Pi'?\")"
      ],
      "metadata": {
        "colab": {
          "base_uri": "https://localhost:8080/",
          "height": 98
        },
        "id": "aGWc_kxBKEUR",
        "outputId": "80a60b66-a150-4d28-d0bb-0838aa9891eb"
      },
      "execution_count": null,
      "outputs": [
        {
          "output_type": "stream",
          "name": "stdout",
          "text": [
            "Claude did not call our tool\n"
          ]
        },
        {
          "output_type": "display_data",
          "data": {
            "text/plain": [
              "<IPython.core.display.Markdown object>"
            ],
            "text/markdown": "Yann Martel wrote the book 'Life of Pi', which was published in 2001. It's a philosophical novel that tells the story of a young Indian boy named Pi Patel who survives a shipwreck and finds himself stranded on a lifeboat with a Bengal tiger. The book won the Man Booker Prize in 2002 and was later adapted into a critically acclaimed film directed by Ang Lee in 2012."
          },
          "metadata": {}
        }
      ]
    },
    {
      "cell_type": "code",
      "source": [
        "def complex_answer_question(question):\n",
        "    # Keep searching wikipedia to answer more complex questions\n",
        "\n",
        "    system_prompt = \"\"\"\n",
        "      You will be asked a question by the user.\n",
        "      Answer the question in under 100 words using the get_article tool to get the contents of a recent wikipedia article about the topic.\n",
        "      If you don't have enough information to comprehensively answer the question, search again to find other relevant articles on Wikipedia.\n",
        "\n",
        "      When you're done searching, put your final answer inside a set of <answer> tags.\n",
        "    \"\"\"\n",
        "\n",
        "    messages = [{\"role\": \"user\", \"content\": f\"Answer the following question <question>{question}</question>\"}]\n",
        "\n",
        "    while True:\n",
        "        response = claude_client.messages.create(\n",
        "            model=\"claude-3-5-haiku-latest\",\n",
        "            system=system_prompt,\n",
        "            messages=messages,\n",
        "            max_tokens=500,\n",
        "            tools=[article_search_tool]\n",
        "        )\n",
        "\n",
        "        if response.stop_reason == \"tool_use\":\n",
        "            tool_block = next((block for block in response.content if block.type == \"tool_use\"), None)\n",
        "\n",
        "            if tool_block and tool_block.name == \"get_article\":\n",
        "                search_term = tool_block.input[\"search_term\"]\n",
        "                print(f\"Claude wants to get an article for {search_term}\")\n",
        "                try:\n",
        "                    wiki_result = get_article(search_term)\n",
        "                    tool_response = {\n",
        "                        \"role\": \"user\",\n",
        "                        \"content\": [\n",
        "                            {\n",
        "                                \"type\": \"tool_result\",\n",
        "                                \"tool_use_id\": tool_block.id,\n",
        "                                \"content\": wiki_result\n",
        "                            }\n",
        "                        ]\n",
        "                    }\n",
        "                    messages.append({\"role\": \"assistant\", \"content\": response.content})\n",
        "                    messages.append(tool_response)\n",
        "                except Exception as e:\n",
        "                    print(f\"Error getting article for {search_term}: {e}\")\n",
        "\n",
        "        elif response.stop_reason == \"end_turn\":\n",
        "\n",
        "            # Check if the response contains the final answer tag\n",
        "            final_answer_block = next((block for block in response.content if block.type == \"text\" and \"<answer>\" in block.text), None)\n",
        "\n",
        "            if final_answer_block:\n",
        "                # Extract the text within the <answer> tags\n",
        "                import re\n",
        "                match = re.search(r\"<answer>(.*?)</answer>\", final_answer_block.text, re.DOTALL)\n",
        "                if match:\n",
        "                    final_answer = match.group(1).strip()\n",
        "                    display(Markdown(f\"**Claude's final answer**:\\n\\n {final_answer}\"))\n",
        "                else:\n",
        "                    display(Markdown(f\"**Claude's response**:\\n\\n {final_answer_block.text}\"))\n",
        "                break # Exit loop after finding the final answer\n",
        "            else:\n",
        "                print(\"Claude did not call our tool or provide a final answer tag.\")\n",
        "                display(Markdown(response.content[0].text))\n",
        "                break # Exit loop if no tool call or final answer tag\n",
        "\n",
        "        else:\n",
        "            print(f\"Claude stopped with reason: {response.stop_reason}\")\n",
        "            display(Markdown(response.content[0].text))\n",
        "            break # Exit loop for other stop reasons"
      ],
      "metadata": {
        "id": "QXlYk6Coblcv"
      },
      "execution_count": null,
      "outputs": []
    },
    {
      "cell_type": "code",
      "source": [
        "complex_answer_question(\"Does Sweden, Uganda, or Brazil have more people?\")"
      ],
      "metadata": {
        "colab": {
          "base_uri": "https://localhost:8080/",
          "height": 156
        },
        "id": "IHLWV54gdedu",
        "outputId": "a363c273-815a-4095-8b05-73fd1d959a3a"
      },
      "execution_count": null,
      "outputs": [
        {
          "output_type": "stream",
          "name": "stdout",
          "text": [
            "Claude wants to get an article for Sweden population\n",
            "Claude wants to get an article for Uganda population\n",
            "Claude wants to get an article for Brazil population\n",
            "Claude wants to get an article for Population of Sweden Uganda Brazil\n"
          ]
        },
        {
          "output_type": "display_data",
          "data": {
            "text/plain": [
              "<IPython.core.display.Markdown object>"
            ],
            "text/markdown": "**Claude's final answer**:\n\n Brazil has the largest population among these three countries, with approximately 214 million people, compared to Uganda's 49.3 million and Sweden's 10.6 million."
          },
          "metadata": {}
        }
      ]
    },
    {
      "cell_type": "markdown",
      "source": [
        "# [Lesson 4](https://github.com/anthropics/courses/blob/master/tool_use/05_tool_choice.ipynb)\n",
        "\n",
        "Tool choice:\n",
        "- auto – let Claude decide whether to use tools or not (default)\n",
        "  - Note that Claude is often over-eager to use tools, so take your time writing a detailed system prompt on when to use them and not use them.\n",
        "- any – let Claude decide which tool to use, but has to be one\n",
        "- tool – force Claude to use a specific tool"
      ],
      "metadata": {
        "id": "nmK8VJCgqULP"
      }
    },
    {
      "cell_type": "code",
      "source": [
        "def web_search(topic):\n",
        "  print(f\"Mock web search for {topic}\")\n",
        "\n",
        "tools = [\n",
        "    {\n",
        "        \"name\": \"web_search\",\n",
        "        \"description\": \"A tool to retrieve up to date information on a given topic by searching the web\",\n",
        "        \"input_schema\": {\n",
        "            \"type\": \"object\",\n",
        "            \"properties\": {\n",
        "                \"topic\": {\n",
        "                    \"type\": \"string\",\n",
        "                    \"description\": \"The topic to search the web for\"\n",
        "                }\n",
        "            },\n",
        "            \"required\": [\"topic\"] # This was moved inside input_schema\n",
        "        }\n",
        "    },\n",
        "]\n",
        "\n",
        "from datetime import date\n",
        "\n",
        "def chat_with_web_search(user_query):\n",
        "    messages = [{\"role\": \"user\", \"content\": user_query}]\n",
        "\n",
        "    system_prompt=f\"\"\"\n",
        "    Answer as many questions as you can using your existing knowledge.\n",
        "    Only search the web for queries that you can not confidently answer.\n",
        "    Today's date is {date.today().strftime(\"%B %d %Y\")}\n",
        "    If you think a user's question involves something in the future that hasn't happened yet, use the search tool.\n",
        "    \"\"\"\n",
        "\n",
        "    response = claude_client.messages.create(\n",
        "        system=system_prompt,\n",
        "        model=model,\n",
        "        messages=messages,\n",
        "        max_tokens=1000,\n",
        "        tool_choice={\"type\": \"auto\"},\n",
        "        # Can be auto, any, or pass in a specific tool name like this: tool_choice={\"type\": \"tool\", \"name\": \"print_sentiment_scores\"}\n",
        "        tools=tools\n",
        "    )\n",
        "    last_content_block = response.content[-1]\n",
        "    if last_content_block.type == \"text\":\n",
        "        print(\"Claude did NOT call a tool\")\n",
        "        print(f\"Assistant: {last_content_block.text}\")\n",
        "    elif last_content_block.type == \"tool_use\":\n",
        "        print(\"Claude wants to use a tool\")\n",
        "        print(last_content_block)"
      ],
      "metadata": {
        "id": "zFvT7DFO-eQZ"
      },
      "execution_count": null,
      "outputs": []
    },
    {
      "cell_type": "code",
      "source": [
        "chat_with_web_search(\"Who won the 2025 Wimbolden tennis final?\")"
      ],
      "metadata": {
        "colab": {
          "base_uri": "https://localhost:8080/"
        },
        "id": "DWK9OWHP_I7N",
        "outputId": "6b88612c-d94c-4af6-af55-c32bd9bcc508"
      },
      "execution_count": null,
      "outputs": [
        {
          "output_type": "stream",
          "name": "stdout",
          "text": [
            "Claude wants to use a tool\n",
            "ToolUseBlock(id='toolu_018tEoAXzpML38c6KhgZNvpg', input={'topic': \"2025 Wimbledon men's and women's singles champions\"}, name='web_search', type='tool_use')\n"
          ]
        }
      ]
    },
    {
      "cell_type": "markdown",
      "source": [
        "# [Lesson 6](https://github.com/anthropics/courses/blob/master/tool_use/06_chatbot_with_multiple_tools.ipynb)\n",
        "\n",
        "Building a multi-tool customer support chatbot"
      ],
      "metadata": {
        "id": "IAPfUBSfBDtE"
      }
    },
    {
      "cell_type": "code",
      "source": [
        "# Setup the fake database\n",
        "\n",
        "class FakeDatabase:\n",
        "    def __init__(self):\n",
        "        self.customers = [\n",
        "            {\"id\": \"1213210\", \"name\": \"John Doe\", \"email\": \"john@gmail.com\", \"phone\": \"123-456-7890\", \"username\": \"johndoe\"},\n",
        "            {\"id\": \"2837622\", \"name\": \"Priya Patel\", \"email\": \"priya@candy.com\", \"phone\": \"987-654-3210\", \"username\": \"priya123\"},\n",
        "            {\"id\": \"3924156\", \"name\": \"Liam Nguyen\", \"email\": \"lnguyen@yahoo.com\", \"phone\": \"555-123-4567\", \"username\": \"liamn\"},\n",
        "            {\"id\": \"4782901\", \"name\": \"Aaliyah Davis\", \"email\": \"aaliyahd@hotmail.com\", \"phone\": \"111-222-3333\", \"username\": \"adavis\"},\n",
        "            {\"id\": \"5190753\", \"name\": \"Hiroshi Nakamura\", \"email\": \"hiroshi@gmail.com\", \"phone\": \"444-555-6666\", \"username\": \"hiroshin\"},\n",
        "            {\"id\": \"6824095\", \"name\": \"Fatima Ahmed\", \"email\": \"fatimaa@outlook.com\", \"phone\": \"777-888-9999\", \"username\": \"fatimaahmed\"},\n",
        "            {\"id\": \"7135680\", \"name\": \"Alejandro Rodriguez\", \"email\": \"arodriguez@protonmail.com\", \"phone\": \"222-333-4444\", \"username\": \"alexr\"},\n",
        "            {\"id\": \"8259147\", \"name\": \"Megan Anderson\", \"email\": \"megana@gmail.com\", \"phone\": \"666-777-8888\", \"username\": \"manderson\"},\n",
        "            {\"id\": \"9603481\", \"name\": \"Kwame Osei\", \"email\": \"kwameo@yahoo.com\", \"phone\": \"999-000-1111\", \"username\": \"kwameo\"},\n",
        "            {\"id\": \"1057426\", \"name\": \"Mei Lin\", \"email\": \"meilin@gmail.com\", \"phone\": \"333-444-5555\", \"username\": \"mlin\"}\n",
        "        ]\n",
        "\n",
        "        self.orders = [\n",
        "            {\"id\": \"24601\", \"customer_id\": \"1213210\", \"product\": \"Wireless Headphones\", \"quantity\": 1, \"price\": 79.99, \"status\": \"Shipped\"},\n",
        "            {\"id\": \"13579\", \"customer_id\": \"1213210\", \"product\": \"Smartphone Case\", \"quantity\": 2, \"price\": 19.99, \"status\": \"Processing\"},\n",
        "            {\"id\": \"97531\", \"customer_id\": \"2837622\", \"product\": \"Bluetooth Speaker\", \"quantity\": 1, \"price\": \"49.99\", \"status\": \"Shipped\"},\n",
        "            {\"id\": \"86420\", \"customer_id\": \"3924156\", \"product\": \"Fitness Tracker\", \"quantity\": 1, \"price\": 129.99, \"status\": \"Delivered\"},\n",
        "            {\"id\": \"54321\", \"customer_id\": \"4782901\", \"product\": \"Laptop Sleeve\", \"quantity\": 3, \"price\": 24.99, \"status\": \"Shipped\"},\n",
        "            {\"id\": \"19283\", \"customer_id\": \"5190753\", \"product\": \"Wireless Mouse\", \"quantity\": 1, \"price\": 34.99, \"status\": \"Processing\"},\n",
        "            {\"id\": \"74651\", \"customer_id\": \"6824095\", \"product\": \"Gaming Keyboard\", \"quantity\": 1, \"price\": 89.99, \"status\": \"Delivered\"},\n",
        "            {\"id\": \"30298\", \"customer_id\": \"7135680\", \"product\": \"Portable Charger\", \"quantity\": 2, \"price\": 29.99, \"status\": \"Shipped\"},\n",
        "            {\"id\": \"47652\", \"customer_id\": \"8259147\", \"product\": \"Smartwatch\", \"quantity\": 1, \"price\": 199.99, \"status\": \"Processing\"},\n",
        "            {\"id\": \"61984\", \"customer_id\": \"9603481\", \"product\": \"Noise-Cancelling Headphones\", \"quantity\": 1, \"price\": 149.99, \"status\": \"Shipped\"},\n",
        "            {\"id\": \"58243\", \"customer_id\": \"1057426\", \"product\": \"Wireless Earbuds\", \"quantity\": 2, \"price\": 99.99, \"status\": \"Delivered\"},\n",
        "            {\"id\": \"90357\", \"customer_id\": \"1213210\", \"product\": \"Smartphone Case\", \"quantity\": 1, \"price\": 19.99, \"status\": \"Shipped\"},\n",
        "            {\"id\": \"28164\", \"customer_id\": \"2837622\", \"product\": \"Wireless Headphones\", \"quantity\": 2, \"price\": 79.99, \"status\": \"Processing\"}\n",
        "        ]\n",
        "\n",
        "    def get_user(self, key, value):\n",
        "        if key in {\"email\", \"phone\", \"username\"}:\n",
        "            for customer in self.customers:\n",
        "                if customer[key] == value:\n",
        "                    return customer\n",
        "            return f\"Couldn't find a user with {key} of {value}\"\n",
        "        else:\n",
        "            raise ValueError(f\"Invalid key: {key}\")\n",
        "\n",
        "        return None\n",
        "\n",
        "    def get_order_by_id(self, order_id):\n",
        "        for order in self.orders:\n",
        "            if order[\"id\"] == order_id:\n",
        "                return order\n",
        "        return None\n",
        "\n",
        "    def get_customer_orders(self, customer_id):\n",
        "        return [order for order in self.orders if order[\"customer_id\"] == customer_id]\n",
        "\n",
        "    def cancel_order(self, order_id):\n",
        "        order = self.get_order_by_id(order_id)\n",
        "        if order:\n",
        "            if order[\"status\"] == \"Processing\":\n",
        "                order[\"status\"] = \"Cancelled\"\n",
        "                return \"Cancelled the order\"\n",
        "            else:\n",
        "                return \"Order has already shipped.  Can't cancel it.\"\n",
        "        return \"Can't find that order!\"\n",
        "\n",
        "db = FakeDatabase()"
      ],
      "metadata": {
        "id": "Ccwk_Ue8BGHD"
      },
      "execution_count": null,
      "outputs": []
    },
    {
      "cell_type": "code",
      "source": [
        "# Test that the database works\n",
        "\n",
        "print(f\"Fetch user:\\n{db.get_user('username', 'adavis')}\\n\")\n",
        "print(f\"Fetch customer orders:\\n{db.get_customer_orders('1213210')}\\n\")\n",
        "print(f\"Fetch single order:\\n{db.get_order_by_id('24601')}\\n\")"
      ],
      "metadata": {
        "colab": {
          "base_uri": "https://localhost:8080/"
        },
        "id": "dBnHTXW_CUUz",
        "outputId": "fb979a69-43ed-4f0a-f54a-0588654d7bf2"
      },
      "execution_count": null,
      "outputs": [
        {
          "output_type": "stream",
          "name": "stdout",
          "text": [
            "Fetch user:\n",
            "{'id': '4782901', 'name': 'Aaliyah Davis', 'email': 'aaliyahd@hotmail.com', 'phone': '111-222-3333', 'username': 'adavis'}\n",
            "\n",
            "Fetch customer orders:\n",
            "[{'id': '24601', 'customer_id': '1213210', 'product': 'Wireless Headphones', 'quantity': 1, 'price': 79.99, 'status': 'Shipped'}, {'id': '13579', 'customer_id': '1213210', 'product': 'Smartphone Case', 'quantity': 2, 'price': 19.99, 'status': 'Processing'}, {'id': '90357', 'customer_id': '1213210', 'product': 'Smartphone Case', 'quantity': 1, 'price': 19.99, 'status': 'Shipped'}]\n",
            "\n",
            "Fetch single order:\n",
            "{'id': '24601', 'customer_id': '1213210', 'product': 'Wireless Headphones', 'quantity': 1, 'price': 79.99, 'status': 'Shipped'}\n",
            "\n"
          ]
        }
      ]
    },
    {
      "cell_type": "code",
      "source": [
        "# Setup Claude tools\n",
        "\n",
        "tools = [\n",
        "    {\n",
        "        \"name\": \"get_user\",\n",
        "        \"description\": \"Looks up a user by email, phone, or username.\",\n",
        "        \"input_schema\": {\n",
        "            \"type\": \"object\",\n",
        "            \"properties\": {\n",
        "                \"key\": {\n",
        "                    \"type\": \"string\",\n",
        "                    \"enum\": [\"email\", \"phone\", \"username\"],\n",
        "                    \"description\": \"The attribute to search for a user by (email, phone, or username).\"\n",
        "                },\n",
        "                \"value\": {\n",
        "                    \"type\": \"string\",\n",
        "                    \"description\": \"The value to match for the specified attribute.\"\n",
        "                }\n",
        "            },\n",
        "            \"required\": [\"key\", \"value\"]\n",
        "        }\n",
        "    },\n",
        "    {\n",
        "        \"name\": \"get_order_by_id\",\n",
        "        \"description\": \"Retrieves the details of a specific order based on the order ID. Returns the order ID, product name, quantity, price, and order status.\",\n",
        "        \"input_schema\": {\n",
        "            \"type\": \"object\",\n",
        "            \"properties\": {\n",
        "                \"order_id\": {\n",
        "                    \"type\": \"string\",\n",
        "                    \"description\": \"The unique identifier for the order.\"\n",
        "                }\n",
        "            },\n",
        "            \"required\": [\"order_id\"]\n",
        "        }\n",
        "    },\n",
        "    {\n",
        "        \"name\": \"get_customer_orders\",\n",
        "        \"description\": \"Retrieves the list of orders belonging to a user based on a user's customer id.\",\n",
        "        \"input_schema\": {\n",
        "            \"type\": \"object\",\n",
        "            \"properties\": {\n",
        "                \"customer_id\": {\n",
        "                    \"type\": \"string\",\n",
        "                    \"description\": \"The customer_id belonging to the user\"\n",
        "                }\n",
        "            },\n",
        "            \"required\": [\"customer_id\"]\n",
        "        }\n",
        "    },\n",
        "    {\n",
        "        \"name\": \"cancel_order\",\n",
        "        \"description\": \"Cancels an order based on a provided order_id.  Only orders that are 'processing' can be cancelled\",\n",
        "        \"input_schema\": {\n",
        "            \"type\": \"object\",\n",
        "            \"properties\": {\n",
        "                \"order_id\": {\n",
        "                    \"type\": \"string\",\n",
        "                    \"description\": \"The order_id pertaining to a particular order\"\n",
        "                }\n",
        "            },\n",
        "            \"required\": [\"order_id\"]\n",
        "        }\n",
        "    }\n",
        "]"
      ],
      "metadata": {
        "id": "_L0iMMa7CuLd"
      },
      "execution_count": null,
      "outputs": []
    },
    {
      "cell_type": "code",
      "source": [
        "# Setup a function to handle each type of tool call\n",
        "\n",
        "def process_tool_call(tool_name, tool_input):\n",
        "    if tool_name == \"get_user\":\n",
        "        return db.get_user(tool_input[\"key\"], tool_input[\"value\"])\n",
        "    elif tool_name == \"get_order_by_id\":\n",
        "        return db.get_order_by_id(tool_input[\"order_id\"])\n",
        "    elif tool_name == \"get_customer_orders\":\n",
        "        return db.get_customer_orders(tool_input[\"customer_id\"])\n",
        "    elif tool_name == \"cancel_order\":\n",
        "        return db.cancel_order(tool_input[\"order_id\"])"
      ],
      "metadata": {
        "id": "KWOfp7QeDnSp"
      },
      "execution_count": null,
      "outputs": []
    },
    {
      "cell_type": "code",
      "source": [
        "# Setup looping chatbot\n",
        "\n",
        "def customer_support_chat():\n",
        "    user_message = input(\"\\nUser:\")\n",
        "    messages = [{\"role\": \"user\", \"content\": user_message}]\n",
        "    system_prompt = \"\"\"\n",
        "    You are a customer support chatbot for an online retailer.\n",
        "    Your job is to help users look up their account, orders, and cancel orders.\n",
        "    Be helpful and brief in your responses.\n",
        "\n",
        "    You have access to a set of tools, but only use them when needed.\n",
        "    If you do not have enough information to use a tool correctly, ask the user follow-up questions.\n",
        "\n",
        "    When the user’s issue is resolved and no further help is needed, you may end the conversation by replying with a short goodbye message like \"You're welcome. Have a great day.\", then print the tag <conversation_end>.\n",
        "    \"\"\"\n",
        "\n",
        "    while True:\n",
        "\n",
        "        # If the last message is from the assistant, get another input from the user\n",
        "        if messages[-1].get(\"role\") == \"assistant\":\n",
        "            user_message = input(\"\\nUser:\")\n",
        "            messages.append({\"role\": \"user\", \"content\": user_message})\n",
        "\n",
        "        # Send a request to Claude\n",
        "        response = claude_client.messages.create(\n",
        "            model=model,\n",
        "            max_tokens=2000,\n",
        "            tools=tools,\n",
        "            messages=messages,\n",
        "            system=system_prompt\n",
        "        )\n",
        "\n",
        "        # Update messages to include Claude's response\n",
        "        messages.append(\n",
        "            {\"role\": \"assistant\", \"content\": response.content}\n",
        "        )\n",
        "\n",
        "        # If Claude stops because it wants to use a tool:\n",
        "        if response.stop_reason == \"tool_use\":\n",
        "            tool_block = next((block for block in response.content if block.type == \"tool_use\"), None)\n",
        "\n",
        "            tool_name = tool_block.name\n",
        "            tool_input = tool_block.input\n",
        "\n",
        "            print(f\"–––– Claude wants to use the {tool_name} tool ––––\")\n",
        "\n",
        "            # Run the function to use the tool\n",
        "            tool_result = process_tool_call(tool_name, tool_input)\n",
        "\n",
        "            # Add the tool result to our messages\n",
        "            messages.append(\n",
        "                {\n",
        "                    \"role\": \"user\",\n",
        "                    \"content\": [\n",
        "                        {\n",
        "                            \"type\": \"tool_result\",\n",
        "                            \"tool_use_id\": tool_block.id,\n",
        "                            \"content\": str(tool_result)\n",
        "                        }\n",
        "                    ]\n",
        "                }\n",
        "            )\n",
        "        else:\n",
        "            # If Claude chooses not to use a tool, print out text\n",
        "            print(f\"\\nCustomer support says: {response.content[0].text}\")\n",
        "\n",
        "            # If Claude decides to end the conversation\n",
        "            if \"<conversation_end>\" in response.content[0].text:\n",
        "                break"
      ],
      "metadata": {
        "id": "rFcDYSoSE2z_"
      },
      "execution_count": null,
      "outputs": []
    },
    {
      "cell_type": "code",
      "source": [
        "# \"Can you find my order? My username is manderson\"\n",
        "\n",
        "customer_support_chat()"
      ],
      "metadata": {
        "colab": {
          "base_uri": "https://localhost:8080/"
        },
        "id": "c7aii4KNPBgQ",
        "outputId": "825d4faa-6cf5-4c30-bcda-84298b90abf4"
      },
      "execution_count": null,
      "outputs": [
        {
          "output_type": "stream",
          "name": "stdout",
          "text": [
            "\n",
            "User:Can you find my order? My username is manderson\n",
            "–––– Claude wants to use the get_user tool ––––\n",
            "–––– Claude wants to use the get_customer_orders tool ––––\n",
            "\n",
            "Customer support says: I found one order for you:\n",
            "- Order ID: 47652\n",
            "- Product: Smartwatch\n",
            "- Quantity: 1\n",
            "- Price: $199.99\n",
            "- Status: Processing\n",
            "\n",
            "Is there anything specific you would like to know about this order? I can provide more details or help you cancel it if needed.\n",
            "\n",
            "User:No that's all I needed\n",
            "\n",
            "Customer support says: You're welcome. Have a great day!\n",
            "\n",
            "<conversation_end>\n"
          ]
        }
      ]
    },
    {
      "cell_type": "code",
      "source": [
        "# Opus version with thinking\n",
        "\n",
        "def extract_reply(text):\n",
        "    pattern = r'<reply>(.*?)</reply>'\n",
        "    match = re.search(pattern, text, re.DOTALL)\n",
        "    if match:\n",
        "        return match.group(1)\n",
        "    else:\n",
        "        return None\n",
        "\n",
        "def thinking_support_chatbot():\n",
        "    user_message = input(\"\\nUser:\")\n",
        "    messages=[{\"role\": \"user\", \"content\": user_message}]\n",
        "\n",
        "    system_prompt = \"\"\"\n",
        "    You are a customer support chat bot for an online retailer.\n",
        "    Your job is to help users look up their account, orders, and cancel orders.\n",
        "    Be helpful and brief in your responses.\n",
        "    You have access to a set of tools, but only use them when needed.\n",
        "    If you do not have enough information to use a tool correctly, ask a user follow up questions to get the required inputs.\n",
        "    Do not call any of the tools unless you have the required data from a user.\n",
        "\n",
        "    In each conversational turn, you will begin by thinking about your response.\n",
        "    Once you're done, you will write a user-facing response.\n",
        "    It's important to place all user-facing conversational responses in <reply></reply> XML tags to make them easy to parse.\n",
        "\n",
        "    When the user’s issue is resolved and no further help is needed, you may end the conversation by replying with a short goodbye message like \"You're welcome. Have a great day.\", then print the tag <conversation_end>.\n",
        "    \"\"\"\n",
        "\n",
        "    while True:\n",
        "\n",
        "        # If the last message was from the assistant, ask the user for input\n",
        "        if messages[-1].get(\"role\") == \"assistant\":\n",
        "            user_message = input(\"\\nUser:\")\n",
        "            messages.append({\"role\": \"user\", \"content\": user_message})\n",
        "\n",
        "        # Send a request to Claude\n",
        "        response = claude_client.messages.create(\n",
        "            model=\"claude-sonnet-4-0\",\n",
        "            max_tokens=2000,\n",
        "            tools=tools,\n",
        "            messages=messages,\n",
        "            system=system_prompt\n",
        "        )\n",
        "\n",
        "        # Update messages to include Claude's response\n",
        "        messages.append(\n",
        "            {\"role\": \"assistant\", \"content\": response.content}\n",
        "        )\n",
        "\n",
        "        # If Claude stops because it wants to use a tool:\n",
        "        if response.stop_reason == \"tool_use\":\n",
        "            tool_block = next((block for block in response.content if block.type == \"tool_use\"), None)\n",
        "\n",
        "            tool_name = tool_block.name\n",
        "            tool_input = tool_block.input\n",
        "\n",
        "            print(f\"–––– Claude wants to use the {tool_name} tool ––––\")\n",
        "\n",
        "            # Run the function to use the tool\n",
        "            tool_result = process_tool_call(tool_name, tool_input)\n",
        "\n",
        "            # Add the tool result to our messages\n",
        "            messages.append(\n",
        "                {\n",
        "                    \"role\": \"user\",\n",
        "                    \"content\": [\n",
        "                        {\n",
        "                            \"type\": \"tool_result\",\n",
        "                            \"tool_use_id\": tool_block.id,\n",
        "                            \"content\": str(tool_result)\n",
        "                        }\n",
        "                    ]\n",
        "                }\n",
        "            )\n",
        "        else:\n",
        "            # If Claude chooses not to use a tool, print out text\n",
        "            # model_reply = extract_reply(response.content[0].text)\n",
        "            print(f\"\\nCustomer support says: {response.content[0].text}\")\n",
        "\n",
        "            # If Claude decides to end the conversation\n",
        "            if \"<conversation_end>\" in response.content[0].text:\n",
        "                break"
      ],
      "metadata": {
        "id": "_hLS88oikoLU"
      },
      "execution_count": null,
      "outputs": []
    },
    {
      "cell_type": "code",
      "source": [
        "thinking_support_chatbot()"
      ],
      "metadata": {
        "colab": {
          "base_uri": "https://localhost:8080/"
        },
        "id": "mvawAIMhmjg3",
        "outputId": "f83e556f-4ffd-42b2-f390-3cc7ed56ac3b"
      },
      "execution_count": null,
      "outputs": [
        {
          "output_type": "stream",
          "name": "stdout",
          "text": [
            "\n",
            "User:can u help me cancel an order?\n",
            "\n",
            "Customer support says: I'd be happy to help you cancel an order! To do this, I'll need your order ID. \n",
            "\n",
            "<reply>\n",
            "I'd be happy to help you cancel an order! Could you please provide me with your order ID?\n",
            "</reply>\n",
            "\n",
            "User:i dont know it\n",
            "\n",
            "Customer support says: I can help you find your order ID. To look up your orders, I'll need to identify your account first. \n",
            "\n",
            "<reply>\n",
            "No problem! I can look up your orders for you. To find your account, could you please provide me with either:\n",
            "- Your email address\n",
            "- Your phone number\n",
            "- Your username\n",
            "\n",
            "Once I find your account, I'll be able to show you your orders and help you cancel the one you need.\n",
            "</reply>\n",
            "\n",
            "User:adavis\n",
            "–––– Claude wants to use the get_user tool ––––\n",
            "–––– Claude wants to use the get_customer_orders tool ––––\n",
            "\n",
            "Customer support says: <reply>\n",
            "Hi Aaliyah! I found your account and see you have one order:\n",
            "\n",
            "**Order #54321**\n",
            "- Product: Laptop Sleeve\n",
            "- Quantity: 3\n",
            "- Price: $24.99\n",
            "- Status: Shipped\n",
            "\n",
            "Unfortunately, this order cannot be cancelled because it has already been shipped. Orders can only be cancelled while they're still in \"processing\" status. \n",
            "\n",
            "Is there anything else I can help you with regarding this order?\n",
            "</reply>\n",
            "\n",
            "User:nope\n",
            "\n",
            "Customer support says: <reply>\n",
            "You're welcome. Have a great day!\n",
            "</reply>\n",
            "\n",
            "<conversation_end>\n"
          ]
        }
      ]
    }
  ]
}